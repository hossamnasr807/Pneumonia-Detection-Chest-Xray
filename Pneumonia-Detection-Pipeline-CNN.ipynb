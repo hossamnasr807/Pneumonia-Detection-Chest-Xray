{
 "cells": [
  {
   "cell_type": "code",
   "execution_count": 2,
   "id": "cc6ce2b1-0f05-4e68-bcb9-8acbc24ada9a",
   "metadata": {},
   "outputs": [],
   "source": [
    "!cp *.jar $SPARK_HOME/jars/"
   ]
  },
  {
   "cell_type": "code",
   "execution_count": 1,
   "id": "7bb07caa-8ad2-4243-8a6f-ed2c57b47f8f",
   "metadata": {},
   "outputs": [
    {
     "name": "stdout",
     "output_type": "stream",
     "text": [
      "bigdl-assembly-spark_3.1.3-2.4.0-jar-with-dependencies.jar\n"
     ]
    }
   ],
   "source": [
    "!ls $SPARK_HOME/jars | grep bigdl"
   ]
  },
  {
   "cell_type": "code",
   "execution_count": 3,
   "id": "6c1edfcb-fde9-443f-9359-4dc302219e84",
   "metadata": {},
   "outputs": [],
   "source": [
    "!export ZOO_STANDALONE_HOME=/opt/work/bigdl-2.4.0"
   ]
  },
  {
   "cell_type": "code",
   "execution_count": 4,
   "id": "56e6d785-6f01-47f2-b035-1e898a445360",
   "metadata": {},
   "outputs": [
    {
     "name": "stdout",
     "output_type": "stream",
     "text": [
      "Requirement already satisfied: pillow in /usr/local/envs/bigdl/lib/python3.9/site-packages (11.2.1)\n",
      "Requirement already satisfied: opencv-python in /usr/local/envs/bigdl/lib/python3.9/site-packages (4.11.0.86)\n",
      "Requirement already satisfied: numpy>=1.17.0 in /usr/local/envs/bigdl/lib/python3.9/site-packages (from opencv-python) (1.26.1)\n",
      "\u001b[33mWARNING: Running pip as the 'root' user can result in broken permissions and conflicting behaviour with the system package manager, possibly rendering your system unusable. It is recommended to use a virtual environment instead: https://pip.pypa.io/warnings/venv. Use the --root-user-action option if you know what you are doing and want to suppress this warning.\u001b[0m\u001b[33m\n",
      "\u001b[0m"
     ]
    }
   ],
   "source": [
    "!pip install pillow opencv-python "
   ]
  },
  {
   "cell_type": "markdown",
   "id": "c7a3c719-743e-4665-893f-865e85d31974",
   "metadata": {},
   "source": [
    "# Imports and Environment Setup"
   ]
  },
  {
   "cell_type": "code",
   "execution_count": 1,
   "id": "2a707791-3b7b-42a0-a352-7c69cb192ba7",
   "metadata": {},
   "outputs": [
    {
     "name": "stderr",
     "output_type": "stream",
     "text": [
      "2025-05-27 21:52:35.065180: W tensorflow/stream_executor/platform/default/dso_loader.cc:64] Could not load dynamic library 'libcudart.so.11.0'; dlerror: libcudart.so.11.0: cannot open shared object file: No such file or directory\n",
      "2025-05-27 21:52:35.065234: I tensorflow/stream_executor/cuda/cudart_stub.cc:29] Ignore above cudart dlerror if you do not have a GPU set up on your machine.\n",
      "/opt/work/bigdl-2.4.0/python/bigdl-spark_3.1.3-2.4.0-python-api.zip/bigdl/dllib/utils/engine.py:47: UserWarning: Find both SPARK_HOME and pyspark. You may need to check whether they match with each other. SPARK_HOME environment variable is set to: /opt/spark, and pyspark is found in: /opt/work/spark-3.1.3/python/lib/pyspark.zip/pyspark/__init__.py. If they are unmatched, please use one source only to avoid conflict. For example, you can unset SPARK_HOME and use pyspark only.\n",
      "/opt/work/bigdl-2.4.0/python/bigdl-spark_3.1.3-2.4.0-python-api.zip/bigdl/dllib/utils/zoo_engine.py:47: UserWarning: Find both SPARK_HOME and pyspark. You may need to check whether they match with each other. SPARK_HOME environment variable is set to: /opt/spark, and pyspark is found in: /opt/work/spark-3.1.3/python/lib/pyspark.zip/pyspark/__init__.py. If they are unmatched, you are recommended to use one source only to avoid conflict. For example, you can unset SPARK_HOME and use pyspark only.\n"
     ]
    }
   ],
   "source": [
    "# pneumonia_detection_fixed.py\n",
    "# Simplified version with proper data format for BigDL\n",
    "import hdfs\n",
    "import os\n",
    "import sys\n",
    "import math\n",
    "import psutil\n",
    "import time\n",
    "import tensorflow as tf\n",
    "import numpy as np\n",
    "from tensorflow.keras.optimizers import Adam\n",
    "from tensorflow.keras.preprocessing.image import load_img, img_to_array\n",
    "from hdfs import InsecureClient\n",
    "from pyspark import SparkConf, SparkContext\n",
    "from bigdl.orca import init_orca_context, stop_orca_context, OrcaContext\n",
    "from bigdl.orca.learn.tf2 import Estimator\n",
    "from bigdl.orca.data import SparkXShards\n",
    "from pyspark.sql import SparkSession\n",
    "from tensorflow.keras import regularizers \n",
    "from sklearn.metrics import roc_curve, auc, classification_report, confusion_matrix,precision_recall_curve\n",
    "import matplotlib.pyplot as plt\n",
    "import seaborn as sns\n",
    "from sklearn.utils import class_weight\n",
    "from collections import defaultdict, Counter\n",
    "from random import shuffle\n",
    "\n",
    "# Ensure Spark uses the same Python interpreter\n",
    "os.environ['PYSPARK_PYTHON'] = sys.executable\n",
    "os.environ['PYSPARK_DRIVER_PYTHON'] = sys.executable"
   ]
  },
  {
   "cell_type": "markdown",
   "id": "3112af45-615b-40db-b2f1-d2a90b5a5460",
   "metadata": {},
   "source": [
    "# System Stats and HDFS Connection"
   ]
  },
  {
   "cell_type": "code",
   "execution_count": 2,
   "id": "c8d6e22a-1ebe-4dd0-a1e0-801a6bcdadbd",
   "metadata": {},
   "outputs": [],
   "source": [
    "def log_system_stats(prefix=\"\"):\n",
    "    \"\"\"Log current system resource usage\"\"\"\n",
    "    mem = psutil.virtual_memory()\n",
    "    stats = (f\"{prefix} System Stats - \"\n",
    "             f\"Memory: {mem.percent}% used ({mem.used/1e9:.1f}GB/{mem.total/1e9:.1f}GB) | \"\n",
    "             f\"CPU: {psutil.cpu_percent()}% | \"\n",
    "             f\"Disk: {psutil.disk_usage('/').percent}%\")\n",
    "    print(stats)\n",
    "\n",
    "def setup_hdfs_client(hdfs_url=\"http://namenode:9870\"):\n",
    "    \"\"\"Initialize HDFS client\"\"\"\n",
    "    try:\n",
    "        client = InsecureClient(hdfs_url, user=os.getenv('USER', 'root'))\n",
    "        # Test connection\n",
    "        client.status('/')\n",
    "        return client\n",
    "    except Exception as e:\n",
    "        print(f\"Failed to connect to HDFS: {e}\")\n",
    "        return None\n",
    "\n",
    "def copy_from_hdfs(hdfs_client, hdfs_path, local_path):\n",
    "    \"\"\"Copy files from HDFS to local using Python client\"\"\"\n",
    "    if not os.path.exists(local_path):\n",
    "        os.makedirs(local_path)\n",
    "    \n",
    "    try:\n",
    "        print(f\"Copying {hdfs_path} to {local_path}\")\n",
    "        hdfs_client.download(hdfs_path, local_path, overwrite=True)\n",
    "        return True\n",
    "    except Exception as e:\n",
    "        print(f\"Error copying from HDFS: {e}\")\n",
    "        return False"
   ]
  },
  {
   "cell_type": "markdown",
   "id": "903ad071-450d-4124-9602-1da29bea29f1",
   "metadata": {},
   "source": [
    "# Image Loading and Preprocessing"
   ]
  },
  {
   "cell_type": "code",
   "execution_count": 3,
   "id": "b553a3ab-06c6-4091-96b9-d61907f95aa7",
   "metadata": {},
   "outputs": [],
   "source": [
    "def load_images_locally(hdfs_path, local_cache='/tmp/xray_cache', sample_fraction=1.0, balance_classes=False):\n",
    "    \"\"\"Copy files from HDFS to local cache and load them\"\"\"\n",
    "    hdfs_client = setup_hdfs_client()\n",
    "    if not hdfs_client:\n",
    "        return None, None\n",
    "\n",
    "    # Define local folders\n",
    "    normal_local = os.path.join(local_cache, 'NORMAL')\n",
    "    pneumonia_local = os.path.join(local_cache, 'PNEUMONIA')\n",
    "    \n",
    "    print(f\"Copying files from HDFS to local cache: {local_cache}\")\n",
    "    \n",
    "    # Copy data from HDFS\n",
    "    normal_hdfs = os.path.join(hdfs_path, 'NORMAL')\n",
    "    pneumonia_hdfs = os.path.join(hdfs_path, 'PNEUMONIA')\n",
    "    \n",
    "    if not (copy_from_hdfs(hdfs_client, normal_hdfs, normal_local) and \n",
    "            copy_from_hdfs(hdfs_client, pneumonia_hdfs, pneumonia_local)):\n",
    "        return None, None\n",
    "\n",
    "    # Collect image paths and labels\n",
    "    image_paths = []\n",
    "    labels = []\n",
    "    for root, _, files in os.walk(local_cache):\n",
    "        for file in files:\n",
    "            if file.lower().endswith(('.jpeg', '.jpg', '.png')):\n",
    "                full_path = os.path.join(root, file)\n",
    "                label = 1 if os.path.basename(root).upper() == 'PNEUMONIA' else 0\n",
    "                image_paths.append(full_path)\n",
    "                labels.append(label)\n",
    "\n",
    "    # Sample if requested\n",
    "    if sample_fraction < 1.0:\n",
    "        sample_size = max(1, int(len(image_paths) * sample_fraction))\n",
    "        indices = np.random.choice(len(image_paths), size=sample_size, replace=False)\n",
    "        image_paths = [image_paths[i] for i in indices]\n",
    "        labels = [labels[i] for i in indices]\n",
    "\n",
    "    # Balance classes if requested\n",
    "    if balance_classes:\n",
    "        image_paths, labels = balance_image_classes(image_paths, labels)\n",
    "\n",
    "    print(\"Loaded label counts:\", dict(Counter(labels)))\n",
    "    return image_paths, labels\n",
    "\n",
    "\n",
    "def preprocess_image_batch(image_paths, labels):\n",
    "    \"\"\"Preprocess a batch of images into numpy arrays\"\"\"\n",
    "    images = []\n",
    "    valid_labels = []\n",
    "    \n",
    "    for i, (path, label) in enumerate(zip(image_paths, labels)):\n",
    "        try:\n",
    "            img = load_img(path, target_size=(224, 224))\n",
    "            img_array = img_to_array(img) / 255.0\n",
    "            images.append(img_array)\n",
    "            valid_labels.append(label)\n",
    "        except Exception as e:\n",
    "            print(f\"Error processing {path}: {e}\")\n",
    "            continue\n",
    "    \n",
    "    if not images:\n",
    "        return None, None\n",
    "        \n",
    "    # Convert to numpy arrays\n",
    "    x_data = np.array(images, dtype=np.float32)\n",
    "    y_data = np.array(valid_labels, dtype=np.float32).reshape(-1, 1)\n",
    "    \n",
    "    return x_data, y_data"
   ]
  },
  {
   "cell_type": "markdown",
   "id": "d50b1b78-77bb-43f0-80b9-ac84772c78ea",
   "metadata": {},
   "source": [
    "# Balancing classes"
   ]
  },
  {
   "cell_type": "code",
   "execution_count": 4,
   "id": "8024bf94-58a5-4760-b785-a1f619306b90",
   "metadata": {},
   "outputs": [],
   "source": [
    "def balance_image_classes(image_paths, labels):\n",
    "    \"\"\"Balance image paths and labels to have equal class representation\"\"\"\n",
    "    class_indices = defaultdict(list)\n",
    "    for i, label in enumerate(labels):\n",
    "        class_indices[label].append(i)\n",
    "\n",
    "    min_class_size = min(len(idxs) for idxs in class_indices.values())\n",
    "    \n",
    "    balanced_indices = []\n",
    "    for idxs in class_indices.values():\n",
    "        shuffle(idxs)\n",
    "        balanced_indices.extend(idxs[:min_class_size])\n",
    "    \n",
    "    shuffle(balanced_indices)\n",
    "    \n",
    "    return [image_paths[i] for i in balanced_indices], [labels[i] for i in balanced_indices]\n"
   ]
  },
  {
   "cell_type": "markdown",
   "id": "cf557e3a-08c3-4ca3-9123-138c06191b81",
   "metadata": {},
   "source": [
    "# SparkXShards Creation"
   ]
  },
  {
   "cell_type": "code",
   "execution_count": 5,
   "id": "678b2d9b-23f8-4a55-80ef-2313ad0988e7",
   "metadata": {},
   "outputs": [],
   "source": [
    "def create_simple_shards(x_data, y_data, spark, batch_size=8):\n",
    "    \"\"\"Create SparkXShards from preprocessed numpy arrays\"\"\"\n",
    "    # Split data into batches\n",
    "    num_samples = len(x_data)\n",
    "    num_batches = math.ceil(num_samples / batch_size)\n",
    "    \n",
    "    batch_data = []\n",
    "    for i in range(num_batches):\n",
    "        start_idx = i * batch_size\n",
    "        end_idx = min((i + 1) * batch_size, num_samples)\n",
    "        \n",
    "        batch_x = x_data[start_idx:end_idx]\n",
    "        batch_y = y_data[start_idx:end_idx]\n",
    "        \n",
    "        # Create the format expected by BigDL\n",
    "        batch_data.append({\n",
    "            'x': batch_x,\n",
    "            'y': batch_y\n",
    "        })\n",
    "    \n",
    "    # Create RDD from batch data\n",
    "    rdd = spark.sparkContext.parallelize(batch_data, numSlices=min(len(batch_data), 4))\n",
    "    return SparkXShards(rdd)"
   ]
  },
  {
   "cell_type": "markdown",
   "id": "cf5116a5-e844-449d-89cb-d236e5010775",
   "metadata": {},
   "source": [
    "# Model Architecture"
   ]
  },
  {
   "cell_type": "code",
   "execution_count": 6,
   "id": "541b3fcf-9081-4f86-8981-1e1ea96a6c85",
   "metadata": {},
   "outputs": [],
   "source": [
    "def create_simple_model(config):\n",
    "    l2_reg = regularizers.l2(config.get('l2', 1e-4))\n",
    "    \n",
    "    inputs = tf.keras.Input(shape=(224, 224, 3))\n",
    "\n",
    "    x = tf.keras.layers.SeparableConv2D(64, 3, activation='relu', padding='same',\n",
    "                                        kernel_regularizer=regularizers.l2(0.001))(inputs)\n",
    "    x = tf.keras.layers.BatchNormalization()(x)\n",
    "    x = tf.keras.layers.MaxPooling2D()(x)\n",
    "    x = tf.keras.layers.Dropout(config.get('dropout', 0.3))(x)\n",
    "\n",
    "    x = tf.keras.layers.SeparableConv2D(128, 3, activation='relu', padding='same',\n",
    "                                        kernel_regularizer=regularizers.l2(0.001))(x)\n",
    "    x = tf.keras.layers.BatchNormalization()(x)\n",
    "    x = tf.keras.layers.MaxPooling2D()(x)\n",
    "    x = tf.keras.layers.Dropout(config.get('dropout', 0.3))(x)\n",
    "\n",
    "    x = tf.keras.layers.SeparableConv2D(128, 3, activation='relu', padding='same',\n",
    "                                        kernel_regularizer=regularizers.l2(0.001))(x)\n",
    "    x = tf.keras.layers.BatchNormalization()(x)\n",
    "    x = tf.keras.layers.GlobalAveragePooling2D()(x)\n",
    "    x = tf.keras.layers.Dropout(config.get('dropout', 0.3))(x)\n",
    "\n",
    "    x = tf.keras.layers.Dense(128, activation='relu', kernel_regularizer=regularizers.l2(0.001))(x)\n",
    "    x = tf.keras.layers.Dropout(config.get('dropout', 0.3))(x)\n",
    "\n",
    "    outputs = tf.keras.layers.Dense(1, activation='sigmoid', kernel_regularizer=regularizers.l2(0.001))(x)\n",
    "\n",
    "    model = tf.keras.Model(inputs, outputs)\n",
    "    model.compile(\n",
    "        optimizer=Adam(config.get('lr', 1e-4)),\n",
    "        loss='binary_crossentropy',\n",
    "        metrics=['accuracy']\n",
    "    )\n",
    "\n",
    "    return model"
   ]
  },
  {
   "cell_type": "markdown",
   "id": "9a49f214-a685-4976-ac03-f7c55f552d8d",
   "metadata": {},
   "source": [
    "# Training and Evaluation"
   ]
  },
  {
   "cell_type": "code",
   "execution_count": 7,
   "id": "eccfd688-75e0-4e97-87bd-8bcbb8fb1280",
   "metadata": {},
   "outputs": [],
   "source": [
    "def run_training_phase(train_paths, train_labels, val_paths, val_labels, spark):\n",
    "    print(f\"\\n{'='*50}\")\n",
    "    log_system_stats(\"Before training:\")\n",
    "    \n",
    "    try:\n",
    "        # Preprocess training images\n",
    "        print(\"Preprocessing training images...\")\n",
    "        x_train, y_train = preprocess_image_batch(train_paths, train_labels)\n",
    "        \n",
    "        if x_train is None or len(x_train) == 0:\n",
    "            print(\"No valid training images processed\")\n",
    "            return False,None\n",
    "\n",
    "        y_train_flat = np.argmax(y_train, axis=1) if y_train.ndim > 1 else y_train\n",
    "        y_train_flat = np.array(y_train_flat).flatten().astype(int)  # ensure 1D int array\n",
    "        \n",
    "        unique, counts = np.unique(y_train_flat, return_counts=True)\n",
    "        print(\"Class distribution in training data:\", dict(zip(unique, counts)))\n",
    "\n",
    "        \n",
    "        # Preprocess validation images\n",
    "        print(\"Preprocessing validation images...\")\n",
    "        x_val, y_val = preprocess_image_batch(val_paths, val_labels)\n",
    "        \n",
    "        if x_val is None or len(x_val) == 0:\n",
    "            print(\"No valid validation images processed\")\n",
    "            return False,None\n",
    "        \n",
    "        print(f\"Training data shapes - X: {x_train.shape}, Y: {y_train.shape}\")\n",
    "        print(f\"Validation data shapes - X: {x_val.shape}, Y: {y_val.shape}\")\n",
    "        \n",
    "        # Create shards for training data\n",
    "        batch_size = 8\n",
    "        train_shards = create_simple_shards(x_train, y_train, spark, batch_size)\n",
    "        \n",
    "        # Calculate steps\n",
    "        steps = max(1, math.ceil(len(x_train) / batch_size))\n",
    "        \n",
    "        unique_classes = np.unique(y_train_flat)\n",
    "        class_weights = class_weight.compute_class_weight(\n",
    "            class_weight='balanced',\n",
    "            classes=unique_classes,\n",
    "            y=y_train_flat\n",
    "        )\n",
    "        class_weight_dict = dict(zip(unique_classes, class_weights))\n",
    "        \n",
    "        est = Estimator.from_keras(\n",
    "        model_creator=create_simple_model,\n",
    "        config={\n",
    "            \"lr\": 1e-4,\n",
    "            \"dropout\": 0.3,\n",
    "            \"l2\": 1e-4,\n",
    "            \"class_weights\": class_weight_dict  \n",
    "        },\n",
    "        backend='spark',\n",
    "        workers_per_node=1\n",
    "        )\n",
    "        \n",
    "        print(\"Class weights:\", class_weight_dict)\n",
    "        # Train\n",
    "        print(\"Starting model training...\")\n",
    "        start_time = time.time()\n",
    "        est.fit(\n",
    "            data=train_shards,\n",
    "            feature_cols=[\"x\"],\n",
    "            label_cols=[\"y\"],\n",
    "            epochs=10,\n",
    "            batch_size=batch_size,\n",
    "            steps_per_epoch=steps\n",
    "        )\n",
    "        \n",
    "        duration = time.time() - start_time\n",
    "        print(f\"Training completed in {duration:.2f} seconds\")\n",
    "        print(f\"Training set size: {len(x_train)} images\")\n",
    "        print(f\"Validation set size: {len(x_val)} images\")         \n",
    "        log_system_stats(\"After training:\")\n",
    "        return True,est\n",
    "        \n",
    "    except Exception as e:\n",
    "        print(f\"Training failed: {str(e)}\")\n",
    "        import traceback\n",
    "        traceback.print_exc()\n",
    "        log_system_stats(\"At failure:\")\n",
    "        return False,None"
   ]
  },
  {
   "cell_type": "markdown",
   "id": "9cfadf08-fb46-4a44-a162-775a4b23610a",
   "metadata": {},
   "source": [
    "# Visualization Function"
   ]
  },
  {
   "cell_type": "code",
   "execution_count": 8,
   "id": "53b1434c-9b23-46dc-a553-2a62fef0c038",
   "metadata": {},
   "outputs": [],
   "source": [
    "def visualize_results(y_true, y_pred_prob, title=\"Test\"):\n",
    "    y_pred_class = (y_pred_prob >= 0.5).astype(int)\n",
    "    \n",
    "    # --- ROC Curve ---\n",
    "    fpr, tpr, _ = roc_curve(y_true, y_pred_prob)\n",
    "    roc_auc = auc(fpr, tpr)\n",
    "    plt.figure(figsize=(6, 4))\n",
    "    plt.plot(fpr, tpr, label=f'{title} ROC Curve (AUC = {roc_auc:.2f})')\n",
    "    plt.plot([0, 1], [0, 1], 'k--')\n",
    "    plt.xlabel('False Positive Rate')\n",
    "    plt.ylabel('True Positive Rate')\n",
    "    plt.title(f'{title} ROC Curve')\n",
    "    plt.legend(loc='lower right')\n",
    "    plt.grid(True)\n",
    "    plt.show()\n"
   ]
  },
  {
   "cell_type": "markdown",
   "id": "ca066ee3-e7cc-4925-b88a-591a2e6b7eca",
   "metadata": {},
   "source": [
    "# Main pipeline"
   ]
  },
  {
   "cell_type": "code",
   "execution_count": 9,
   "id": "a9977a69-a4da-410d-944a-041d09e724f4",
   "metadata": {
    "scrolled": true
   },
   "outputs": [
    {
     "name": "stdout",
     "output_type": "stream",
     "text": [
      "Initializing Orca context...\n",
      "Initializing orca context\n",
      "Current pyspark location is : /opt/work/spark-3.1.3/python/lib/pyspark.zip/pyspark/__init__.py\n",
      "Start to getOrCreate SparkContext\n",
      "pyspark_submit_args is:  --driver-class-path /opt/work/bigdl-2.4.0/jars/* pyspark-shell \n"
     ]
    },
    {
     "name": "stderr",
     "output_type": "stream",
     "text": [
      "SLF4J: Class path contains multiple SLF4J bindings.\n",
      "SLF4J: Found binding in [jar:file:/opt/work/bigdl-2.4.0/jars/log4j-slf4j-impl-2.17.1.jar!/org/slf4j/impl/StaticLoggerBinder.class]\n",
      "SLF4J: Found binding in [jar:file:/opt/spark/jars/slf4j-log4j12-1.7.30.jar!/org/slf4j/impl/StaticLoggerBinder.class]\n",
      "SLF4J: Found binding in [jar:file:/opt/spark/jars/bigdl-assembly-spark_3.1.3-2.4.0-jar-with-dependencies.jar!/org/slf4j/impl/StaticLoggerBinder.class]\n",
      "SLF4J: See http://www.slf4j.org/codes.html#multiple_bindings for an explanation.\n",
      "SLF4J: Actual binding is of type [org.apache.logging.slf4j.Log4jLoggerFactory]\n"
     ]
    },
    {
     "name": "stdout",
     "output_type": "stream",
     "text": [
      "25-05-27 21:52:42 WARN  NativeCodeLoader:62 - Unable to load native-hadoop library for your platform... using builtin-java classes where applicable\n",
      "2025-05-27 21:52:45,297 Thread-4 WARN The bufferSize is set to 4000 but bufferedIo is false: false\n",
      "2025-05-27 21:52:45,300 Thread-4 WARN The bufferSize is set to 4000 but bufferedIo is false: false\n",
      "2025-05-27 21:52:45,301 Thread-4 WARN The bufferSize is set to 4000 but bufferedIo is false: false\n",
      "2025-05-27 21:52:45,302 Thread-4 WARN The bufferSize is set to 4000 but bufferedIo is false: false\n",
      "25-05-27 21:52:45 INFO  Engine$:122 - Auto detect executor number and executor cores number\n",
      "25-05-27 21:52:45 INFO  Engine$:124 - Executor number is 1 and executor cores number is 4\n",
      "25-05-27 21:52:45 INFO  ThreadPool$:95 - Set mkl threads to 1 on thread 25\n",
      "25-05-27 21:52:45 WARN  SparkContext:69 - Using an existing SparkContext; some configuration may not take effect.\n",
      "2025-05-27 21:52:45 WARN  SparkContext:69 - Using an existing SparkContext; some configuration may not take effect.\n",
      "25-05-27 21:52:45 INFO  Engine$:461 - Find existing spark context. Checking the spark conf...\n"
     ]
    },
    {
     "name": "stderr",
     "output_type": "stream",
     "text": [
      "\n",
      "User settings:\n",
      "\n",
      "   KMP_AFFINITY=granularity=fine,compact,1,0\n",
      "   KMP_BLOCKTIME=0\n",
      "   KMP_DUPLICATE_LIB_OK=True\n",
      "   KMP_INIT_AT_FORK=FALSE\n",
      "   KMP_SETTINGS=1\n",
      "   OMP_NUM_THREADS=1\n",
      "\n",
      "Effective settings:\n",
      "\n",
      "   KMP_ABORT_DELAY=0\n",
      "   KMP_ADAPTIVE_LOCK_PROPS='1,1024'\n",
      "   KMP_ALIGN_ALLOC=64\n",
      "   KMP_ALL_THREADPRIVATE=128\n",
      "   KMP_ATOMIC_MODE=2\n",
      "   KMP_BLOCKTIME=0\n",
      "   KMP_CPUINFO_FILE: value is not defined\n",
      "   KMP_DETERMINISTIC_REDUCTION=false\n",
      "   KMP_DEVICE_THREAD_LIMIT=2147483647\n",
      "   KMP_DISP_HAND_THREAD=false\n",
      "   KMP_DISP_NUM_BUFFERS=7\n",
      "   KMP_DUPLICATE_LIB_OK=true\n",
      "   KMP_FORCE_REDUCTION: value is not defined\n",
      "   KMP_FOREIGN_THREADS_THREADPRIVATE=true\n",
      "   KMP_FORKJOIN_BARRIER='2,2'\n",
      "   KMP_FORKJOIN_BARRIER_PATTERN='hyper,hyper'\n",
      "   KMP_FORKJOIN_FRAMES=true\n",
      "   KMP_FORKJOIN_FRAMES_MODE=3\n",
      "   KMP_GTID_MODE=3\n",
      "   KMP_HANDLE_SIGNALS=false\n",
      "   KMP_HOT_TEAMS_MAX_LEVEL=1\n",
      "   KMP_HOT_TEAMS_MODE=0\n",
      "   KMP_INIT_AT_FORK=true\n",
      "   KMP_INIT_WAIT=2048\n",
      "   KMP_ITT_PREPARE_DELAY=0\n",
      "   KMP_LIBRARY=throughput\n",
      "   KMP_LOCK_KIND=queuing\n",
      "   KMP_MALLOC_POOL_INCR=1M\n",
      "   KMP_NEXT_WAIT=1024\n",
      "   KMP_NUM_LOCKS_IN_BLOCK=1\n",
      "   KMP_PLAIN_BARRIER='2,2'\n",
      "   KMP_PLAIN_BARRIER_PATTERN='hyper,hyper'\n",
      "   KMP_REDUCTION_BARRIER='1,1'\n",
      "   KMP_REDUCTION_BARRIER_PATTERN='hyper,hyper'\n",
      "   KMP_SCHEDULE='static,balanced;guided,iterative'\n",
      "   KMP_SETTINGS=true\n",
      "   KMP_SPIN_BACKOFF_PARAMS='4096,100'\n",
      "   KMP_STACKOFFSET=64\n",
      "   KMP_STACKPAD=0\n",
      "   KMP_STACKSIZE=4M\n",
      "   KMP_STORAGE_MAP=false\n",
      "   KMP_TASKING=2\n",
      "   KMP_TASKLOOP_MIN_TASKS=0\n",
      "   KMP_TASK_STEALING_CONSTRAINT=1\n",
      "   KMP_TEAMS_THREAD_LIMIT=16\n",
      "   KMP_TOPOLOGY_METHOD=all\n",
      "   KMP_USER_LEVEL_MWAIT=false\n",
      "   KMP_VERSION=false\n",
      "   KMP_WARNINGS=true\n",
      "   OMP_AFFINITY_FORMAT='OMP: pid %P tid %T thread %n bound to OS proc set {%a}'\n",
      "   OMP_ALLOCATOR=omp_default_mem_alloc\n",
      "   OMP_CANCELLATION=false\n",
      "   OMP_DEFAULT_DEVICE=0\n",
      "   OMP_DISPLAY_AFFINITY=false\n",
      "   OMP_DISPLAY_ENV=false\n",
      "   OMP_DYNAMIC=false\n",
      "   OMP_MAX_ACTIVE_LEVELS=2147483647\n",
      "   OMP_MAX_TASK_PRIORITY=0\n",
      "   OMP_NESTED=false\n",
      "   OMP_NUM_THREADS='1'\n",
      "   OMP_PLACES: value is not defined\n",
      "   OMP_PROC_BIND='intel'\n",
      "   OMP_SCHEDULE='static'\n",
      "   OMP_STACKSIZE=4M\n",
      "   OMP_TARGET_OFFLOAD=DEFAULT\n",
      "   OMP_THREAD_LIMIT=2147483647\n",
      "   OMP_TOOL=enabled\n",
      "   OMP_TOOL_LIBRARIES: value is not defined\n",
      "   OMP_WAIT_POLICY=PASSIVE\n",
      "   KMP_AFFINITY='noverbose,warnings,respect,granularity=fine,compact,1,0'\n",
      "\n"
     ]
    },
    {
     "name": "stdout",
     "output_type": "stream",
     "text": [
      "cls.getname: com.intel.analytics.bigdl.dllib.utils.python.api.Sample\n",
      "BigDLBasePickler registering: bigdl.dllib.utils.common  Sample\n",
      "cls.getname: com.intel.analytics.bigdl.dllib.utils.python.api.EvaluatedResult\n",
      "BigDLBasePickler registering: bigdl.dllib.utils.common  EvaluatedResult\n",
      "cls.getname: com.intel.analytics.bigdl.dllib.utils.python.api.JTensor\n",
      "BigDLBasePickler registering: bigdl.dllib.utils.common  JTensor\n",
      "cls.getname: com.intel.analytics.bigdl.dllib.utils.python.api.JActivity\n",
      "BigDLBasePickler registering: bigdl.dllib.utils.common  JActivity\n",
      "Successfully got a SparkContext\n",
      "25-05-27 21:52:46 INFO  Engine$:162 - Initializing JavaGatewayServer on executor-driver \n",
      "25-05-27 21:52:46 INFO  Engine$:182 - JavaGatewayServer initialized\n",
      "25-05-27 21:52:46 INFO  GatewayServer:573 - Gateway Server Started\n"
     ]
    },
    {
     "name": "stderr",
     "output_type": "stream",
     "text": [
      "                                                                                "
     ]
    },
    {
     "name": "stdout",
     "output_type": "stream",
     "text": [
      "============================================================\n",
      "LOADING DATASETS FROM HDFS\n",
      "============================================================\n",
      "Loading training images from HDFS: /data/chest_xray/train\n",
      "Copying files from HDFS to local cache: /tmp/xray_train_cache\n",
      "Copying /data/chest_xray/train/NORMAL to /tmp/xray_train_cache/NORMAL\n",
      "Copying /data/chest_xray/train/PNEUMONIA to /tmp/xray_train_cache/PNEUMONIA\n",
      "Loaded label counts: {1: 232, 0: 232}\n",
      "Loading validation images from HDFS: /data/chest_xray/val\n",
      "Copying files from HDFS to local cache: /tmp/xray_val_cache\n",
      "Copying /data/chest_xray/val/NORMAL to /tmp/xray_val_cache/NORMAL\n",
      "Copying /data/chest_xray/val/PNEUMONIA to /tmp/xray_val_cache/PNEUMONIA\n",
      "Loaded label counts: {1: 8, 0: 8}\n",
      "Loading test images from HDFS: /data/chest_xray/test\n",
      "Copying files from HDFS to local cache: /tmp/xray_test_cache\n",
      "Copying /data/chest_xray/test/NORMAL to /tmp/xray_test_cache/NORMAL\n",
      "Copying /data/chest_xray/test/PNEUMONIA to /tmp/xray_test_cache/PNEUMONIA\n",
      "Loaded label counts: {0: 23, 1: 23}\n",
      "\n",
      "============================================================\n",
      "DATASET SUMMARY\n",
      "============================================================\n",
      "Training images available: 464\n",
      "Validation images: 16\n",
      "Test images: 46\n",
      "After loading all data: System Stats - Memory: 42.1% used (3.0GB/7.9GB) | CPU: 9.3% | Disk: 7.3%\n",
      "\n",
      "============================================================\n",
      "============================================================\n",
      "\n",
      "==================================================\n",
      "Before training: System Stats - Memory: 42.1% used (3.0GB/7.9GB) | CPU: 0.0% | Disk: 7.3%\n",
      "Preprocessing training images...\n",
      "Class distribution in training data: {0: 464}\n",
      "Preprocessing validation images...\n",
      "Training data shapes - X: (464, 224, 224, 3), Y: (464, 1)\n",
      "Validation data shapes - X: (16, 224, 224, 3), Y: (16, 1)\n",
      "25-05-27 21:53:48 WARN  TaskSetManager:69 - Stage 1 contains a task of very large size (65861 KiB). The maximum recommended task size is 1000 KiB.\n",
      "2025-05-27 21:53:48 WARN  TaskSetManager:69 - Stage 1 contains a task of very large size (65861 KiB). The maximum recommended task size is 1000 KiB.\n"
     ]
    },
    {
     "name": "stderr",
     "output_type": "stream",
     "text": [
      "                                                                                "
     ]
    },
    {
     "name": "stdout",
     "output_type": "stream",
     "text": [
      "25-05-27 21:53:51 INFO  GatewayServer:519 - Connection Started\n",
      "Class weights: {0: 1.0}\n",
      "Starting model training...\n"
     ]
    },
    {
     "name": "stderr",
     "output_type": "stream",
     "text": [
      "                                                                                "
     ]
    },
    {
     "name": "stdout",
     "output_type": "stream",
     "text": [
      "25-05-27 21:53:52 WARN  TaskSetManager:69 - Stage 4 contains a task of very large size (65861 KiB). The maximum recommended task size is 1000 KiB.\n",
      "2025-05-27 21:53:52 WARN  TaskSetManager:69 - Stage 4 contains a task of very large size (65861 KiB). The maximum recommended task size is 1000 KiB.\n",
      "25-05-27 21:53:52 WARN  TaskSetManager:69 - Stage 5 contains a task of very large size (65861 KiB). The maximum recommended task size is 1000 KiB.\n",
      "2025-05-27 21:53:52 WARN  TaskSetManager:69 - Stage 5 contains a task of very large size (65861 KiB). The maximum recommended task size is 1000 KiB.\n",
      "25-05-27 21:53:53 WARN  TaskSetManager:69 - Stage 6 contains a task of very large size (65861 KiB). The maximum recommended task size is 1000 KiB.\n",
      "2025-05-27 21:53:53 WARN  TaskSetManager:69 - Stage 6 contains a task of very large size (65861 KiB). The maximum recommended task size is 1000 KiB.\n"
     ]
    },
    {
     "name": "stderr",
     "output_type": "stream",
     "text": [
      "2025-05-27 21:53:54.811194: W tensorflow/stream_executor/platform/default/dso_loader.cc:64] Could not load dynamic library 'libcudart.so.11.0'; dlerror: libcudart.so.11.0: cannot open shared object file: No such file or directory\n",
      "2025-05-27 21:53:54.811663: I tensorflow/stream_executor/cuda/cudart_stub.cc:29] Ignore above cudart dlerror if you do not have a GPU set up on your machine.\n",
      "WARNING:tensorflow:From /opt/work/bigdl-2.4.0/python/bigdl-spark_3.1.3-2.4.0-python-api.zip/bigdl/orca/learn/tf2/spark_runner.py:340: _CollectiveAllReduceStrategyExperimental.__init__ (from tensorflow.python.distribute.collective_all_reduce_strategy) is deprecated and will be removed in a future version.\n",
      "Instructions for updating:\n",
      "use distribute.MultiWorkerMirroredStrategy instead\n",
      "2025-05-27 21:54:00.157139: W tensorflow/stream_executor/platform/default/dso_loader.cc:64] Could not load dynamic library 'libcuda.so.1'; dlerror: libcuda.so.1: cannot open shared object file: No such file or directory\n",
      "2025-05-27 21:54:00.157196: W tensorflow/stream_executor/cuda/cuda_driver.cc:269] failed call to cuInit: UNKNOWN ERROR (303)\n",
      "2025-05-27 21:54:00.157224: I tensorflow/stream_executor/cuda/cuda_diagnostics.cc:156] kernel driver does not appear to be running on this host (23c9124071a8): /proc/driver/nvidia/version does not exist\n",
      "2025-05-27 21:54:00.158269: I tensorflow/core/platform/cpu_feature_guard.cc:193] This TensorFlow binary is optimized with oneAPI Deep Neural Network Library (oneDNN) to use the following CPU instructions in performance-critical operations:  AVX2 FMA\n",
      "To enable them in other operations, rebuild TensorFlow with the appropriate compiler flags.\n",
      "2025-05-27 21:54:00.182513: I tensorflow/core/distributed_runtime/rpc/grpc_channel.cc:272] Initialize GrpcChannelCache for job worker -> {0 -> 172.18.0.7:57003}\n",
      "2025-05-27 21:54:00.183260: I tensorflow/core/distributed_runtime/rpc/grpc_channel.cc:272] Initialize GrpcChannelCache for job worker -> {0 -> 172.18.0.7:57003}\n",
      "2025-05-27 21:54:00.185104: I tensorflow/core/distributed_runtime/rpc/grpc_server_lib.cc:438] Started server with target: grpc://172.18.0.7:57003\n",
      "WARNING:tensorflow:From /opt/work/bigdl-2.4.0/python/bigdl-spark_3.1.3-2.4.0-python-api.zip/bigdl/orca/learn/tf2/spark_runner.py:147: StrategyBase.experimental_distribute_datasets_from_function (from tensorflow.python.distribute.distribute_lib) is deprecated and will be removed in a future version.\n",
      "Instructions for updating:\n",
      "rename to distribute_datasets_from_function\n",
      "2025-05-27 21:54:00.817942: W tensorflow/core/framework/cpu_allocator_impl.cc:82] Allocation of 279379968 exceeds 10% of free system memory.\n",
      "2025-05-27 21:54:01.008074: W tensorflow/core/framework/cpu_allocator_impl.cc:82] Allocation of 279379968 exceeds 10% of free system memory.\n",
      "2025-05-27 21:54:01.425582: W tensorflow/core/framework/dataset.cc:768] Input of GeneratorDatasetOp::Dataset will not be optimized because the dataset does not implement the AsGraphDefInternal() method needed to apply optimizations.\n",
      "Epoch 1/10\n",
      "2025-05-27 21:54:03.739094: W tensorflow/core/framework/cpu_allocator_impl.cc:82] Allocation of 102760448 exceeds 10% of free system memory.\n",
      "2025-05-27 21:54:03.785244: W tensorflow/core/framework/cpu_allocator_impl.cc:82] Allocation of 102760448 exceeds 10% of free system memory.\n",
      "2025-05-27 21:54:04.218019: W tensorflow/core/framework/cpu_allocator_impl.cc:82] Allocation of 102760448 exceeds 10% of free system memory.\n",
      "58/58 [==============================] - 32s 504ms/step - loss: 0.7678 - accuracy: 0.6832\n",
      "Epoch 2/10\n",
      "58/58 [==============================] - 28s 483ms/step - loss: 0.6778 - accuracy: 0.7737\n",
      "Epoch 3/10\n",
      "58/58 [==============================] - 28s 485ms/step - loss: 0.5771 - accuracy: 0.8233\n",
      "Epoch 4/10\n",
      "58/58 [==============================] - 28s 484ms/step - loss: 0.5087 - accuracy: 0.8297\n",
      "Epoch 5/10\n",
      "58/58 [==============================] - 28s 490ms/step - loss: 0.4601 - accuracy: 0.8836\n",
      "Epoch 6/10\n",
      "58/58 [==============================] - 28s 489ms/step - loss: 0.4624 - accuracy: 0.8685\n",
      "Epoch 7/10\n",
      "58/58 [==============================] - 29s 493ms/step - loss: 0.4353 - accuracy: 0.8772\n",
      "Epoch 8/10\n",
      "58/58 [==============================] - 29s 492ms/step - loss: 0.3832 - accuracy: 0.8966\n",
      "Epoch 9/10\n",
      "58/58 [==============================] - 28s 490ms/step - loss: 0.4005 - accuracy: 0.9009\n",
      "Epoch 10/10\n",
      "58/58 [==============================] - 28s 490ms/step - loss: 0.4040 - accuracy: 0.8944\n",
      "                                                                                "
     ]
    },
    {
     "name": "stdout",
     "output_type": "stream",
     "text": [
      "Training completed in 296.99 seconds\n",
      "Training set size: 464 images\n",
      "Validation set size: 16 images\n",
      "After training: System Stats - Memory: 84.1% used (6.4GB/7.9GB) | CPU: 21.9% | Disk: 7.3%\n",
      "\n",
      " Roc Visualization for test images...\n"
     ]
    },
    {
     "name": "stderr",
     "output_type": "stream",
     "text": [
      "2025-05-27 21:58:54.829807: W tensorflow/stream_executor/platform/default/dso_loader.cc:64] Could not load dynamic library 'libcuda.so.1'; dlerror: libcuda.so.1: cannot open shared object file: No such file or directory\n",
      "2025-05-27 21:58:54.831054: W tensorflow/stream_executor/cuda/cuda_driver.cc:269] failed call to cuInit: UNKNOWN ERROR (303)\n",
      "2025-05-27 21:58:54.831570: I tensorflow/stream_executor/cuda/cuda_diagnostics.cc:156] kernel driver does not appear to be running on this host (23c9124071a8): /proc/driver/nvidia/version does not exist\n",
      "2025-05-27 21:58:54.837279: I tensorflow/core/platform/cpu_feature_guard.cc:193] This TensorFlow binary is optimized with oneAPI Deep Neural Network Library (oneDNN) to use the following CPU instructions in performance-critical operations:  AVX2 FMA\n",
      "To enable them in other operations, rebuild TensorFlow with the appropriate compiler flags.\n",
      "2025-05-27 21:58:56.059687: W tensorflow/core/framework/cpu_allocator_impl.cc:82] Allocation of 411041792 exceeds 10% of free system memory.\n",
      "2025-05-27 21:58:56.159880: W tensorflow/core/framework/cpu_allocator_impl.cc:82] Allocation of 411041792 exceeds 10% of free system memory.\n"
     ]
    },
    {
     "name": "stdout",
     "output_type": "stream",
     "text": [
      "1/2 [==============>...............] - ETA: 0s"
     ]
    },
    {
     "name": "stderr",
     "output_type": "stream",
     "text": [
      "2025-05-27 21:58:56.272943: W tensorflow/core/framework/cpu_allocator_impl.cc:82] Allocation of 205520896 exceeds 10% of free system memory.\n",
      "2025-05-27 21:58:56.307200: W tensorflow/core/framework/cpu_allocator_impl.cc:82] Allocation of 205520896 exceeds 10% of free system memory.\n",
      "2025-05-27 21:58:56.403623: W tensorflow/core/framework/cpu_allocator_impl.cc:82] Allocation of 179830784 exceeds 10% of free system memory.\n"
     ]
    },
    {
     "name": "stdout",
     "output_type": "stream",
     "text": [
      "2/2 [==============================] - 1s 151ms/step\n"
     ]
    },
    {
     "data": {
      "image/png": "[encoded data removed]",
      "text/plain": [
       "<Figure size 600x400 with 1 Axes>"
      ]
     },
     "metadata": {},
     "output_type": "display_data"
    },
    {
     "name": "stdout",
     "output_type": "stream",
     "text": [
      "\n",
      "Stopping Orca context...\n",
      "Stopping orca context\n",
      "Done.\n"
     ]
    }
   ],
   "source": [
    "if __name__ == \"__main__\":\n",
    "    # Configure Spark with increased timeouts and memory\n",
    "    conf = {\n",
    "        \"spark.executor.heartbeatInterval\": \"60s\",\n",
    "        \"spark.network.timeout\": \"600s\",\n",
    "        \"spark.driver.memory\": \"4g\",\n",
    "        \"spark.executor.memory\": \"4g\",\n",
    "        \"spark.driver.maxResultSize\": \"2g\",\n",
    "        \"spark.sql.adaptive.enabled\": \"false\",\n",
    "        \"spark.sql.adaptive.coalescePartitions.enabled\": \"false\"\n",
    "    }\n",
    "    \n",
    "    # Initialize Orca context\n",
    "    print(\"Initializing Orca context...\")\n",
    "    init_orca_context(\n",
    "        cluster_mode=\"local\",\n",
    "        cores=4,\n",
    "        memory=\"6g\",\n",
    "        conf=conf\n",
    "    )\n",
    "    spark = OrcaContext.get_spark_session()\n",
    "    \n",
    "    # Load datasets from HDFS\n",
    "    print(\"=\"*60)\n",
    "    print(\"LOADING DATASETS FROM HDFS\")\n",
    "    print(\"=\"*60)\n",
    "    \n",
    "    # Load training data\n",
    "    train_hdfs_path = \"/data/chest_xray/train\"\n",
    "    print(f\"Loading training images from HDFS: {train_hdfs_path}\")\n",
    "    train_paths, train_labels = load_images_locally(train_hdfs_path, \n",
    "                                                   local_cache='/tmp/xray_train_cache', \n",
    "                                                   sample_fraction=0.1,balance_classes=True)\n",
    "     # Load validation data  \n",
    "    val_hdfs_path = \"/data/chest_xray/val\"\n",
    "    print(f\"Loading validation images from HDFS: {val_hdfs_path}\")\n",
    "    val_paths, val_labels = load_images_locally(val_hdfs_path, \n",
    "                                               local_cache='/tmp/xray_val_cache', \n",
    "                                               sample_fraction=1.0)\n",
    "    \n",
    "    # Load test data\n",
    "    test_hdfs_path = \"/data/chest_xray/test\"\n",
    "    print(f\"Loading test images from HDFS: {test_hdfs_path}\")\n",
    "    test_paths, test_labels = load_images_locally(test_hdfs_path, \n",
    "                                                 local_cache='/tmp/xray_test_cache', \n",
    "                                                 sample_fraction=0.1,balance_classes=True)   \n",
    "    # Check if data loaded successfully\n",
    "    if not train_paths or not train_labels:\n",
    "        print(\"No training images loaded. Exiting.\")\n",
    "        stop_orca_context()\n",
    "        sys.exit(1)\n",
    "    \n",
    "    if not val_paths or not val_labels:\n",
    "        print(\"No validation images loaded. Exiting.\")\n",
    "        stop_orca_context()\n",
    "        sys.exit(1)\n",
    "\n",
    "    if not test_paths or not test_labels:\n",
    "        print(\"No test images loaded. Exiting.\")\n",
    "        stop_orca_context()\n",
    "        sys.exit(1)\n",
    "    \n",
    "    # Print dataset info\n",
    "    print(\"\\n\" + \"=\"*60)\n",
    "    print(\"DATASET SUMMARY\")\n",
    "    print(\"=\"*60)\n",
    "    print(f\"Training images available: {len(train_paths)}\")\n",
    "    print(f\"Validation images: {len(val_paths)}\")\n",
    "    print(f\"Test images: {len(test_paths) if test_paths else 'Not loaded'}\")\n",
    "    \n",
    "    # Count labels for validation set\n",
    "    val_normal = sum(1 for label in val_labels if label == 0)\n",
    "    val_pneumonia = sum(1 for label in val_labels if label == 1)\n",
    "    log_system_stats(\"After loading all data:\")\n",
    "    \n",
    "    print(\"\\n\" + \"=\"*60)\n",
    "    print(\"=\"*60)\n",
    "    success,est = run_training_phase(train_paths, train_labels, val_paths, val_labels, spark)\n",
    "    if not success:\n",
    "        print(f\"\\nTraining failed. Exiting.\")\n",
    "        \n",
    "    \n",
    "    # --- Evaluate on test set ---\n",
    "    print(\"\\n Roc Visualization for test images...\")\n",
    "    x_test, y_test = preprocess_image_batch(test_paths, test_labels)\n",
    "    if x_test is not None and len(x_test) > 0:\n",
    "        keras_model = est.get_model()  # Get the underlying Keras model from the Estimator\n",
    "        y_pred_prob = keras_model.predict(x_test).flatten()\n",
    "        visualize_results(y_test.flatten(), y_pred_prob)\n",
    "    else:\n",
    "        print(\"Test data preprocessing failed or returned empty set.\")\n",
    "    \n",
    "    # Cleanup\n",
    "    print(\"\\nStopping Orca context...\")\n",
    "    stop_orca_context()\n",
    "    print(\"Done.\")"
   ]
  }
 ],
 "metadata": {
  "kernelspec": {
   "display_name": "Python 3 (ipykernel)",
   "language": "python",
   "name": "python3"
  },
  "language_info": {
   "codemirror_mode": {
    "name": "ipython",
    "version": 3
   },
   "file_extension": ".py",
   "mimetype": "text/x-python",
   "name": "python",
   "nbconvert_exporter": "python",
   "pygments_lexer": "ipython3",
   "version": "3.9.12"
  }
 },
 "nbformat": 4,
 "nbformat_minor": 5
}
